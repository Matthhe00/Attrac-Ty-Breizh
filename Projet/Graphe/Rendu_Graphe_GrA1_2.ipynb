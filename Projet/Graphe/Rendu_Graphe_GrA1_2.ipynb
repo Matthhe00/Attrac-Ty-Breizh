{
 "cells": [
  {
   "cell_type": "markdown",
   "metadata": {},
   "source": [
    "\n",
    "***\n",
    "***\n",
    "\n",
    "# SAE 2.02 - Commune Bretonne\n",
    "## Rendu Partie Graphe\n",
    "***\n",
    "***\n",
    "\n",
    "Groupe A1-2\n",
    "\n",
    "Membres du groupe :\n",
    "- Jules-Vachet Mattheo\n",
    "- Shell Yanis\n",
    "- Gauffeny Paul\n",
    "***\n",
    "***\n",
    "A few ground rules for your report:\n",
    "* _your code must be clear, commented and use explicit variable names_\n",
    "* _every algorithm must be tested on a few examples which show the different use cases_\n",
    "* _markdown comments and examples must be provided, and the report should be self-contained_"
   ]
  },
  {
   "cell_type": "code",
   "execution_count": 6,
   "metadata": {},
   "outputs": [],
   "source": [
    "import networkx as nx\n",
    "import numpy as np\n",
    "import matplotlib.pyplot as plt\n",
    "%matplotlib inline\n",
    "#magic\n",
    "import warnings\n",
    "warnings.filterwarnings('ignore')"
   ]
  },
  {
   "cell_type": "markdown",
   "metadata": {},
   "source": [
    "We recall a few useful functions\n"
   ]
  },
  {
   "cell_type": "code",
   "execution_count": 7,
   "metadata": {},
   "outputs": [],
   "source": [
    "def neighbours(A,v):\n",
    "    \"\"\"\n",
    "     Return the array of (out-)neighbours of v in the graph whose adjacency matrix is A\n",
    "\n",
    "    :param A: the adjacency matrix\n",
    "    :type A: a two dimensional square numpy array containing only integers\n",
    "    :param v: the considered vertex\n",
    "    :type v: integer\n",
    "    :return:  the array of (out-)neighbours of v in the graph whose adjacency matrix is A\n",
    "    :rtype:  an array of integer\n",
    "    \"\"\"\n",
    "        \n",
    "\n",
    "    return np.where(A[v]==1)[0]"
   ]
  }
 ],
 "metadata": {
  "kernelspec": {
   "display_name": "Python 3 (ipykernel)",
   "language": "python",
   "name": "python3"
  },
  "language_info": {
   "codemirror_mode": {
    "name": "ipython",
    "version": 3
   },
   "file_extension": ".py",
   "mimetype": "text/x-python",
   "name": "python",
   "nbconvert_exporter": "python",
   "pygments_lexer": "ipython3",
   "version": "3.11.5"
  }
 },
 "nbformat": 4,
 "nbformat_minor": 4
}
